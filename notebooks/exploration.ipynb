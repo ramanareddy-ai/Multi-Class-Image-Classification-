{
 "cells": [
  {
   "cell_type": "markdown",
   "metadata": {},
   "source": [
    "# Data Exploration and Analysis\n",
    "\n",
    "This notebook explores the dataset for multi-class image classification project."
   ]
  },
  {
   "cell_type": "code",
   "execution_count": null,
   "metadata": {},
   "outputs": [],
   "source": [
    "import sys\n",
    "import os\n",
    "sys.path.append('../src')\n",
    "\n",
    "import numpy as np\n",
    "import pandas as pd\n",
    "import matplotlib.pyplot as plt\n",
    "import seaborn as sns\n",
    "from pathlib import Path\n",
    "\n",
    "from config import Config\n",
    "from data_preprocessing import DataPreprocessor\n",
    "from utils import set_random_seed\n",
    "\n",
    "# Set style\n",
    "plt.style.use('seaborn-v0_8')\n",
    "sns.set_palette('husl')\n",
    "%matplotlib inline"
   ]
  },
  {
   "cell_type": "markdown",
   "metadata": {},
   "source": [
    "## Dataset Overview"
   ]
  },
  {
   "cell_type": "code",
   "execution_count": null,
   "metadata": {},
   "outputs": [],
   "source": [
    "# Initialize configuration\n",
    "config = Config()\n",
    "set_random_seed(config.RANDOM_SEED)\n",
    "\n",
    "# Initialize preprocessor\n",
    "preprocessor = DataPreprocessor(config)\n",
    "\n",
    "print(f'Dataset directory: {config.DATA_DIR}')\n",
    "print(f'Image size: {config.IMAGE_SIZE}')\n",
    "print(f'Number of classes: {config.NUM_CLASSES}')"
   ]
  },
  {
   "cell_type": "code",
   "execution_count": null,
   "metadata": {},
   "outputs": [],
   "source": [
    "# Analyze dataset structure\n",
    "train_gen, val_gen, test_gen = preprocessor.create_data_generators()\n",
    "\n",
    "if train_gen:\n",
    "    print('Training Data Analysis:')\n",
    "    preprocessor.analyze_dataset(train_gen)\n",
    "    \n",
    "    print('\\nCreating sample visualization...')\n",
    "    preprocessor.create_sample_batch_visualization(train_gen)"
   ]
  },
  {
   "cell_type": "markdown",
   "metadata": {},
   "source": [
    "## Data Augmentation Examples"
   ]
  },
  {
   "cell_type": "code",
   "execution_count": null,
   "metadata": {},
   "outputs": [],
   "source": [
    "# Find a sample image for augmentation demo\n",
    "sample_images = list(config.TRAIN_DIR.rglob('*.jpg'))\n",
    "if sample_images:\n",
    "    sample_image = sample_images[0]\n",
    "    print(f'Using sample image: {sample_image}')\n",
    "    \n",
    "    # Visualize augmentations\n",
    "    preprocessor.visualize_augmentations(sample_image, num_augmentations=9)\n",
    "else:\n",
    "    print('No sample images found for augmentation demo')"
   ]
  },
  {
   "cell_type": "markdown",
   "metadata": {},
   "source": [
    "## Class Distribution Analysis"
   ]
  },
  {
   "cell_type": "code",
   "execution_count": null,
   "metadata": {},
   "outputs": [],
   "source": [
    "# Analyze class distribution\n",
    "if train_gen:\n",
    "    class_counts = {}\n",
    "    for class_name, class_idx in train_gen.class_indices.items():\n",
    "        class_dir = Path(train_gen.directory) / class_name\n",
    "        count = len(list(class_dir.glob('*.[jp][pn]g')) + list(class_dir.glob('*.jpeg')))\n",
    "        class_counts[class_name] = count\n",
    "    \n",
    "    # Create visualization\n",
    "    plt.figure(figsize=(12, 6))\n",
    "    classes = list(class_counts.keys())\n",
    "    counts = list(class_counts.values())\n",
    "    \n",
    "    plt.bar(classes, counts)\n",
    "    plt.title('Class Distribution in Training Data')\n",
    "    plt.xlabel('Class')\n",
    "    plt.ylabel('Number of Images')\n",
    "    plt.xticks(rotation=45)\n",
    "    \n",
    "    # Add count labels\n",
    "    for i, count in enumerate(counts):\n",
    "        plt.text(i, count + max(counts)*0.01, str(count), ha='center')\n",
    "    \n",
    "    plt.tight_layout()\n",
    "    plt.show()\n",
    "    \n",
    "    print(f'Total training images: {sum(counts)}')\n",
    "    print(f'Average images per class: {sum(counts)/len(counts):.1f}')\n",
    "    print(f'Min images in a class: {min(counts)}')\n",
    "    print(f'Max images in a class: {max(counts)}')"
   ]
  },
  {
   "cell_type": "markdown",
   "metadata": {},
   "source": [
    "## Image Statistics"
   ]
  },
  {
   "cell_type": "code",
   "execution_count": null,
   "metadata": {},
   "outputs": [],
   "source": [
    "# Analyze image properties\n",
    "import cv2\n",
    "from tqdm.notebook import tqdm\n",
    "\n",
    "def analyze_image_properties(image_dir, max_images=1000):\n",
    "    '''Analyze basic image properties'''\n",
    "    widths, heights, channels = [], [], []\n",
    "    \n",
    "    image_files = list(image_dir.rglob('*.[jp][pn]g'))[:max_images]\n",
    "    \n",
    "    for img_path in tqdm(image_files, desc='Analyzing images'):\n",
    "        try:\n",
    "            img = cv2.imread(str(img_path))\n",
    "            if img is not None:\n",
    "                h, w, c = img.shape\n",
    "                widths.append(w)\n",
    "                heights.append(h)\n",
    "                channels.append(c)\n",
    "        except Exception as e:\n",
    "            print(f'Error processing {img_path}: {e}')\n",
    "    \n",
    "    return widths, heights, channels\n",
    "\n",
    "# Analyze training images\n",
    "if config.TRAIN_DIR.exists():\n",
    "    widths, heights, channels = analyze_image_properties(config.TRAIN_DIR)\n",
    "    \n",
    "    fig, axes = plt.subplots(1, 3, figsize=(15, 5))\n",
    "    \n",
    "    axes[0].hist(widths, bins=30, alpha=0.7)\n",
    "    axes[0].set_title('Width Distribution')\n",
    "    axes[0].set_xlabel('Width (pixels)')\n",
    "    \n",
    "    axes[1].hist(heights, bins=30, alpha=0.7)\n",
    "    axes[1].set_title('Height Distribution')\n",
    "    axes[1].set_xlabel('Height (pixels)')\n",
    "    \n",
    "    axes[2].hist(channels, bins=10, alpha=0.7)\n",
    "    axes[2].set_title('Channel Distribution')\n",
    "    axes[2].set_xlabel('Number of Channels')\n",
    "    \n",
    "    plt.tight_layout()\n",
    "    plt.show()\n",
    "    \n",
    "    print(f'Width - Min: {min(widths)}, Max: {max(widths)}, Mean: {np.mean(widths):.1f}')\n",
    "    print(f'Height - Min: {min(heights)}, Max: {max(heights)}, Mean: {np.mean(heights):.1f}')\n",
    "    print(f'Channels - Unique values: {set(channels)}')"
   ]
  }
 ],
 "metadata": {
  "kernelspec": {
   "display_name": "Python 3",
   "language": "python",
   "name": "python3"
  },
  "language_info": {
   "codemirror_mode": {
    "name": "ipython",
    "version": 3
   },
   "file_extension": ".py",
   "name": "python",
   "nbconvert_exporter": "python",
   "pygments_lexer": "ipython3",
   "version": "3.8.5"
  }
 },
 "nbformat": 4,
 "nbformat_minor": 4
}